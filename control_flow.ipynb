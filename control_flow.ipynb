{
 "cells": [
  {
   "cell_type": "code",
   "execution_count": 7,
   "id": "25e7562b-05d4-4c63-b0bf-600e1cf37fe1",
   "metadata": {},
   "outputs": [
    {
     "name": "stdin",
     "output_type": "stream",
     "text": [
      "Enter the number: 24\n"
     ]
    },
    {
     "name": "stdout",
     "output_type": "stream",
     "text": [
      "The number is positive\n"
     ]
    }
   ],
   "source": [
    "# BASIC IF ELSE STATEMENTS\n",
    "\n",
    "# Question 1\n",
    "\n",
    "#  Write a Python program to check if a given number is positive or negative\n",
    "\n",
    "number = int(input(\"Enter the number:\")) # user input is stored in variable  number\n",
    "\n",
    "if number<0: # check if the number is less the 0 ,if it is its negative else it is positive \n",
    "    print(\"The number is negative\")\n",
    "else:\n",
    "    print(\"The number is positive\")"
   ]
  },
  {
   "cell_type": "code",
   "execution_count": 10,
   "id": "8cdd4e41-bf2b-4e44-8a59-6fde718ecef0",
   "metadata": {},
   "outputs": [
    {
     "name": "stdin",
     "output_type": "stream",
     "text": [
      "Enter the age: 18\n"
     ]
    },
    {
     "name": "stdout",
     "output_type": "stream",
     "text": [
      "You are eligible for voting, your age is 18\n"
     ]
    }
   ],
   "source": [
    "# Question 2\n",
    "\n",
    "# Create a program that determines if a person is eligible to vote based on their age.\n",
    "\n",
    "age = int(input(\"Enter the age:\")) # get the user input and store it in age\n",
    "\n",
    "if age<18: # check if the age is less than 18\n",
    "    print(\"You are not eligible for voting , You should get Older\")\n",
    "elif age>=18: # checks if the age is greater or equal to 18\n",
    "    print(f\"You are eligible for voting, your age is {age}\")\n",
    "    \n"
   ]
  },
  {
   "cell_type": "code",
   "execution_count": 44,
   "id": "5245ab6f-318e-4efd-a3b2-48b65cc1ce6c",
   "metadata": {},
   "outputs": [
    {
     "name": "stdin",
     "output_type": "stream",
     "text": [
      "Enter the first number: 12\n",
      "Enter the second number: 32\n"
     ]
    },
    {
     "name": "stdout",
     "output_type": "stream",
     "text": [
      "32 > 12 , second number is greater\n"
     ]
    }
   ],
   "source": [
    "# Question 3\n",
    "\n",
    "# Develop a program to find the maximum of two numbers using if-else statements.\n",
    "\n",
    "num1 = int(input(\"Enter the first number:\")) # The input is taken from the user and stored in num1 and num2\n",
    "num2 = int(input(\"Enter the second number:\"))\n",
    "\n",
    "if num1>num2: # checks if num1 is greater than num2 \n",
    "    print(f\"{num1} > {num2} , First number is greater\") # if the condition is true it prints this line\n",
    "else:\n",
    "    print(f\"{num2} > {num1} , second number is greater\") # else it prints this line\n"
   ]
  },
  {
   "cell_type": "code",
   "execution_count": 4,
   "id": "5bbcf9b2-ef15-41a7-b3a4-4f18402f567e",
   "metadata": {},
   "outputs": [
    {
     "name": "stdin",
     "output_type": "stream",
     "text": [
      "Enter the year: 199\n"
     ]
    },
    {
     "name": "stdout",
     "output_type": "stream",
     "text": [
      "The year isn't a leap year!\n"
     ]
    }
   ],
   "source": [
    "# Question 4\n",
    "\n",
    "# Write a Python script to classify a given year as a leap year or not.\n",
    "\n",
    "year=int(input(\"Enter the year:\")) # The user input is stored in the variable year\n",
    "if(year%4==0 and year%100!=0 or year%400==0):# if the entered year is divisible by 4 it is a leap year \n",
    "    print(\"The year is a leap year!\")        # if the year is divisible by 100 check if it is also divisible by 400 then it is a leap if it not it is not a leap year\n",
    "else:\n",
    "    print(\"The year isn't a leap year!\")\n"
   ]
  },
  {
   "cell_type": "code",
   "execution_count": 14,
   "id": "8b004856-72a6-4e69-b85e-db5a01046ac2",
   "metadata": {},
   "outputs": [
    {
     "name": "stdin",
     "output_type": "stream",
     "text": [
      "Enter the character e\n"
     ]
    },
    {
     "name": "stdout",
     "output_type": "stream",
     "text": [
      "The character 'e' is a vowel\n"
     ]
    }
   ],
   "source": [
    "# Questiom 5\n",
    "\n",
    "# Create a program that checks whether a character is a vowel or a consonant.\n",
    "\n",
    "vowels = ['a','e','i','o','u'] #vowels are stored in vowels variable\n",
    "\n",
    "c = input(\"Enter the character\") # The user input is stored in c\n",
    "\n",
    "if c in vowels: # check whether a character is a vowel or consonant and print the result\n",
    "    print(f\"The character '{c}' is a vowel\")\n",
    "else:\n",
    "    print(f\"The character '{c}' is a consonant\")\n",
    "    "
   ]
  },
  {
   "cell_type": "code",
   "execution_count": 17,
   "id": "969f48d3-371a-4876-9b9b-fc458ea0eb9a",
   "metadata": {},
   "outputs": [
    {
     "name": "stdin",
     "output_type": "stream",
     "text": [
      "Enter the number: 9\n"
     ]
    },
    {
     "name": "stdout",
     "output_type": "stream",
     "text": [
      "The number 9 is odd\n"
     ]
    }
   ],
   "source": [
    "#Question 6\n",
    "\n",
    "# Implement a program to determine whether a given number is even or odd.\n",
    "\n",
    "number = int(input(\"Enter the number:\")) # The user input is stored in variable number\n",
    "\n",
    "if number%2==0: # check if the user input is even or odd by modulo operator\n",
    "    print(f\"The number {number} is even\")\n",
    "else:\n",
    "    print(f\"The number {number} is odd\")\n",
    "\n"
   ]
  },
  {
   "cell_type": "code",
   "execution_count": 29,
   "id": "73c9f778-0fb3-4492-b988-d2bc020ee101",
   "metadata": {},
   "outputs": [
    {
     "name": "stdin",
     "output_type": "stream",
     "text": [
      "Enter the number -7\n"
     ]
    },
    {
     "name": "stdout",
     "output_type": "stream",
     "text": [
      "The absolute value of number 7\n"
     ]
    }
   ],
   "source": [
    "# Question 7\n",
    "\n",
    "# Write a Python function to calculate the absolute value of a number without using the `abs()` function.\n",
    "\n",
    "number = int(input(\"Enter the number\")) # store the user input in variable in number\n",
    "\n",
    "if number>=0: # checks if the absolute value number is positive or negative\n",
    "    print(f\"The absolute value of number {number}\")\n",
    "else:\n",
    "    print(f\"The absolute value of number {-number}\")"
   ]
  },
  {
   "cell_type": "code",
   "execution_count": 27,
   "id": "a06e9ba7-72f1-4d31-8615-8c5a337c70db",
   "metadata": {},
   "outputs": [
    {
     "data": {
      "text/plain": [
       "7"
      ]
     },
     "execution_count": 27,
     "metadata": {},
     "output_type": "execute_result"
    }
   ],
   "source": [
    "abs(-7)"
   ]
  },
  {
   "cell_type": "code",
   "execution_count": 32,
   "id": "5cfa7db2-46a4-4639-9ec3-7c8575b1423f",
   "metadata": {},
   "outputs": [
    {
     "name": "stdin",
     "output_type": "stream",
     "text": [
      "Enter the first number 10\n",
      "Enter the second number 30\n",
      "Enter the third number 90\n"
     ]
    },
    {
     "name": "stdout",
     "output_type": "stream",
     "text": [
      "number 3 90 is greater\n"
     ]
    }
   ],
   "source": [
    "#Question 8\n",
    "\n",
    "# Develop a program that determines the largest of three given numbers using if-else statements.\n",
    "\n",
    "num1 = int(input(\"Enter the first number\")) # three variables are initialized to store the user input \n",
    "num2 = int(input(\"Enter the second number\"))\n",
    "num3 = int(input(\"Enter the third number\"))\n",
    "\n",
    "if num1>num2 and num1>num3: # check the condition using and operator\n",
    "    print(f\"number 1 {num1} is greater\")\n",
    "elif num3>num1 and num3>num2:\n",
    "    print(f\"number 3 {num3} is greater\")\n",
    "else:\n",
    "    print(f\"number 2 {num2} is greater\")   # print the result\n",
    "\n"
   ]
  },
  {
   "cell_type": "code",
   "execution_count": 34,
   "id": "738bbd01-52b4-4e72-a079-e276fdf9b1d9",
   "metadata": {},
   "outputs": [
    {
     "name": "stdin",
     "output_type": "stream",
     "text": [
      "Enter the string saji\n"
     ]
    },
    {
     "name": "stdout",
     "output_type": "stream",
     "text": [
      "The string is not palindrome\n"
     ]
    }
   ],
   "source": [
    "# Question 9\n",
    "\n",
    "# Create a program that checks if a given string is a palindrome.\n",
    "\n",
    "s = input(\"Enter the string\") # store the user input in the variable s\n",
    "\n",
    "if s==s[::-1]: # check if the string is palindrome by reversing the string\n",
    "    print(\"The string is palindrome\")\n",
    "else:\n",
    "    print(\"The string is not palindrome\") # print the output\n",
    " "
   ]
  },
  {
   "cell_type": "code",
   "execution_count": 2,
   "id": "47cf1a99-e5e7-4426-b221-2f7fe231d131",
   "metadata": {},
   "outputs": [
    {
     "name": "stdin",
     "output_type": "stream",
     "text": [
      "Enter the student score 10\n"
     ]
    },
    {
     "name": "stdout",
     "output_type": "stream",
     "text": [
      "your grade is 'D' you need to work hard\n"
     ]
    }
   ],
   "source": [
    "# Question 10\n",
    "\n",
    "#  Write a Python program to calculate the grade based on a student's score.\n",
    "\n",
    "student_score = int(input(\"Enter the student score\")) # The user input is stored in the variable student score\n",
    "\n",
    "if student_score<=0: #check the student scores inputed and prints a output if that block is true\n",
    "    print(\"Enter a valid score\")\n",
    "elif student_score<=30:\n",
    "    print(\"your grade is 'D' you need to work hard\")\n",
    "elif student_score>30 and student_score<=60:\n",
    "    print(\"Your grade is 'C' you need more improvement\")\n",
    "elif student_score >60 and student_score<=70:\n",
    "    print(\"Your grade is 'B', You are good\")\n",
    "elif student_score>70 and student_score<=100:\n",
    "    print(\"Your grade is 'A' ,Excellent\")\n"
   ]
  },
  {
   "cell_type": "code",
   "execution_count": 16,
   "id": "a3ec5b2e-443d-4619-a28a-971223bd276c",
   "metadata": {},
   "outputs": [
    {
     "name": "stdin",
     "output_type": "stream",
     "text": [
      "Enter the number 1  22\n",
      "Enter the number 2  22\n",
      "Enter the number 3  22\n"
     ]
    },
    {
     "name": "stdout",
     "output_type": "stream",
     "text": [
      "All the numbers are equal\n"
     ]
    }
   ],
   "source": [
    "# NESTED IF ELSE STATEMENTS\n",
    "\n",
    "# Question 11\n",
    "\n",
    "#  Write a program to find the largest among three numbers using nested if-else statements.\n",
    "\n",
    "num1 = int(input(\"Enter the number 1 \")) # The user inputs are stored in three variables\n",
    "num2 = int(input(\"Enter the number 2 \"))\n",
    "num3 = int(input(\"Enter the number 3 \"))\n",
    "\n",
    "if num1==num2==num3:    # suppose the user enters the same number this conditon catches that else the else part is triggerd and all the conditions are checked\n",
    "    print(\"All the numbers are equal\")\n",
    "else:\n",
    "    if num1>num2: #3 > 2 > 1\n",
    "        if num1>num3:\n",
    "            print(\"Number 1 in greater\")\n",
    "        else:\n",
    "            print(\"number 3 is greater\")\n",
    "    elif num2>num3:\n",
    "        print(\"number 2 is greater\")\n",
    "    else:\n",
    "        print(\"number 3 is greater\")    "
   ]
  },
  {
   "cell_type": "code",
   "execution_count": 20,
   "id": "c7bf18c8-e03a-4f8f-a1fc-5cd9fd98084d",
   "metadata": {},
   "outputs": [
    {
     "name": "stdin",
     "output_type": "stream",
     "text": [
      "Enter the side of the triangle:  12\n",
      "Enter the side of the triangle:  23\n",
      "Enter the side of the triangle:  12\n"
     ]
    },
    {
     "name": "stdout",
     "output_type": "stream",
     "text": [
      "It is an isosceles triangle\n"
     ]
    }
   ],
   "source": [
    "#Question 12\n",
    "\n",
    "#  Implement a program to determine if a triangle is equilateral, isosceles, or scalene.\n",
    "\n",
    "x = int(input(\"Enter the side of the triangle: \")) # The sides of the triangle is stored in three variables x,y,z\n",
    "y = int(input(\"Enter the side of the triangle: \"))\n",
    "z = int(input(\"Enter the side of the triangle: \"))\n",
    "\n",
    "# check the sides of the triangle \n",
    "\n",
    "if x==y==z:  # if all the sides are equal it is an equilateral triangle\n",
    "    print(\"It is an equilateral triangle\")\n",
    "elif x==y or y==z or z==x: # if any two sides are equal it is an isosceles triangle\n",
    "    print(\"It is an isosceles triangle\") \n",
    "else:\n",
    "    print(\"It is a scalene triangle\") #if neither of the sides are equal it is a scalene triangle\n"
   ]
  },
  {
   "cell_type": "code",
   "execution_count": 23,
   "id": "f28f449e-e345-4dc7-9b25-14f88d1f93d8",
   "metadata": {},
   "outputs": [
    {
     "name": "stdin",
     "output_type": "stream",
     "text": [
      "Enter  the year: 2023\n"
     ]
    },
    {
     "name": "stdout",
     "output_type": "stream",
     "text": [
      "The year isn't a leap year!\n"
     ]
    }
   ],
   "source": [
    "# Question 13\n",
    "\n",
    "# Develop a program that checks if a year is a leap year and also if it is a century year.\n",
    "\n",
    "year=int(input(\"Enter  the year:\")) # The user input is stored in the variable year\n",
    "if(year%4==0 and year%100!=0 or year%400==0):# if the entered year is divisible by 4 it is a leap year \n",
    "    print(\"The year is a leap year!\")        # if the year is divisible by 100 check if it is also divisible by 400 then it is a leap if it not it is not a leap year\n",
    "else:\n",
    "    print(\"The year isn't a leap year!\")\n"
   ]
  },
  {
   "cell_type": "code",
   "execution_count": 27,
   "id": "39debec3-a5be-45cb-bee6-ff166fdb7489",
   "metadata": {},
   "outputs": [
    {
     "name": "stdin",
     "output_type": "stream",
     "text": [
      "Enter the number 1\n"
     ]
    },
    {
     "name": "stdout",
     "output_type": "stream",
     "text": [
      "The number 1 is positive\n"
     ]
    }
   ],
   "source": [
    "# Question 14\n",
    "\n",
    "# Write a Python script to determine if a number is positive, negative, or zero.\n",
    "\n",
    "number = int(input(\"Enter the number\")) # The user input is stored in variable number\n",
    "\n",
    "if number==0:  # checks if the user input is equal to 0\n",
    "    print(f\"The number  is {number} \")\n",
    "elif number<0:\n",
    "    print(f\"The number {number} is negative\")# if the number is less than 0 it is negative\n",
    "else:\n",
    "    print(f\"The number {number} is positive\") # if the number is greater than 0 it is positive\n",
    "\n"
   ]
  },
  {
   "cell_type": "code",
   "execution_count": 31,
   "id": "56f18fd6-ab64-4966-b941-5f4783567526",
   "metadata": {},
   "outputs": [
    {
     "name": "stdin",
     "output_type": "stream",
     "text": [
      "Enter your age 23\n"
     ]
    },
    {
     "name": "stdout",
     "output_type": "stream",
     "text": [
      "You are an adult\n"
     ]
    }
   ],
   "source": [
    "# Question 15\n",
    "\n",
    "# Create a program to check if a person is a teenager (between 13 and 19 years old).\n",
    "\n",
    "age = int(input(\"Enter your age\")) # The user input is stored in age\n",
    "\n",
    "if age<=13:   # check if age is less than 13 \n",
    "    print(\"You are a kid \")\n",
    "    \n",
    "elif age>13 and age<=19:\n",
    "    print(\"You are a teenager\") # check if the age is inbetween 13 and 19 \n",
    "else:\n",
    "    print(\"You are an adult\")\n",
    "    "
   ]
  },
  {
   "cell_type": "code",
   "execution_count": 34,
   "id": "72d7becf-23bb-46d5-8e1d-f36171bcc704",
   "metadata": {},
   "outputs": [
    {
     "name": "stdin",
     "output_type": "stream",
     "text": [
      "Enter the angle 50\n"
     ]
    },
    {
     "name": "stdout",
     "output_type": "stream",
     "text": [
      "The angle is acute angle\n"
     ]
    }
   ],
   "source": [
    "# Question 16\n",
    "\n",
    "# Develop a program that determines the type of angle based on its measure (acute, obtuse, or right).\n",
    "\n",
    "angle = int(input(\"Enter the angle\")) # stores the value of the angle in variable angle\n",
    "\n",
    "# check if the angle is less than 90 or equal to 90 or more than 90\n",
    "if angle==90:\n",
    "    print(\"The angle is right angle\") # if angle is = 90 it is right angle \n",
    "elif angle<90:\n",
    "    print(\"The angle is acute angle\")  # if angle is less than 90 it is acute angle\n",
    "else:\n",
    "    print(\"The angle is obtuse angle\")  # if angle is more than 90 it is obtuse angle\n",
    "\n"
   ]
  },
  {
   "cell_type": "code",
   "execution_count": 9,
   "id": "38d1126a-104d-4803-ac0b-3e8d6941d864",
   "metadata": {},
   "outputs": [
    {
     "name": "stdin",
     "output_type": "stream",
     "text": [
      "Enter the value of a: 2\n",
      "Enter the value of b: 2\n",
      "Enter the value of c: 2\n"
     ]
    },
    {
     "name": "stdout",
     "output_type": "stream",
     "text": [
      "The roots are\n",
      "(-0.5-0.8660254037844386j)\n",
      "(-0.5+0.8660254037844386j)\n"
     ]
    }
   ],
   "source": [
    "# Question 17\n",
    "\n",
    "#  Write a Python program to calculate the roots of a quadratic equation\n",
    "\n",
    "import cmath # import the cmath module\n",
    "\n",
    "a = int(input(\"Enter the value of a:\"))\n",
    "b = int(input(\"Enter the value of b:\"))\n",
    "c = int(input(\"Enter the value of c:\"))\n",
    " \n",
    "# calculating  the discriminant\n",
    "\n",
    "discriminant = (b**2) - (4 * a*c)\n",
    " \n",
    "# find two results\n",
    "\n",
    "root1 = (-b-cmath.sqrt(discriminant))/(2 * a)\n",
    "root2 = (-b + cmath.sqrt(discriminant))/(2 * a)\n",
    " \n",
    "# printing the results\n",
    "\n",
    "print('The roots are')\n",
    "print(root1)\n",
    "print(root2)\n"
   ]
  },
  {
   "cell_type": "code",
   "execution_count": 5,
   "id": "51917bcf-d4e1-4871-9251-33c8173876f6",
   "metadata": {},
   "outputs": [
    {
     "name": "stdin",
     "output_type": "stream",
     "text": [
      "Enter the number of day: 22\n"
     ]
    },
    {
     "name": "stdout",
     "output_type": "stream",
     "text": [
      "Enter a valid input\n"
     ]
    }
   ],
   "source": [
    "# Question 18\n",
    "\n",
    "# Implement a program to determine the day of the week based on a user-provided number (1 for Monday, 2 for Tuesday, etc.).\n",
    "\n",
    "days_of_week = {1:\"monday\", 2:\"Tuesday\", 3:\"wednesday\", 4:\"thursday\",5:\"friday\", 6:\"saturday\",7 :\"sunday\"}\n",
    "\n",
    "# initialize a dictionary consisting the days of the week\n",
    "\n",
    "day = int(input(\"Enter the number of day:\")) # The number of day is stored in the day variable\n",
    "\n",
    "for i in range(1,8): # loop through the dictionary using for loop and access the value by using the key\n",
    "    if day==i:\n",
    "        print(f\"The day is {days_of_week[i]}\")\n",
    "    \n",
    "else:\n",
    "    print(\"Enter a valid input\") # if the user input is invalid this is printed"
   ]
  },
  {
   "cell_type": "code",
   "execution_count": null,
   "id": "8b88bde9-4ed2-4b64-be0c-0b3c516d00a0",
   "metadata": {},
   "outputs": [],
   "source": [
    "# Question 19\n",
    "\n",
    "# Create a program that determines if a year is a leap year and also if it is evenly divisible by 400.\n",
    "\n",
    "year=int(input(\"Enter the year:\")) # The user input is stored in the variable year\n",
    "if(year%4==0 and year%100!=0 or year%400==0):# if the entered year is divisible by 4 it is a leap year \n",
    "    print(\"The year is a leap year!\")        # if the year is divisible by 100 check if it is also divisible by 400 then it is a leap if it not it is not a leap year\n",
    "else:\n",
    "    print(\"The year isn't a leap year!\")\n"
   ]
  },
  {
   "cell_type": "code",
   "execution_count": 30,
   "id": "e0f4e558-76bc-4f55-a778-8b57a7d47ff9",
   "metadata": {},
   "outputs": [
    {
     "name": "stdin",
     "output_type": "stream",
     "text": [
      "Enter the number 17\n"
     ]
    },
    {
     "name": "stdout",
     "output_type": "stream",
     "text": [
      "17 is a prime number\n"
     ]
    }
   ],
   "source": [
    "# Question 20\n",
    "\n",
    "# Develop a program that checks if a given number is prime or not using nested if-else statements.\n",
    "\n",
    "num = int(input(\"Enter the number\"))\n",
    "\n",
    "if num>1: # if the input is greater than one \n",
    "    for i in range(2,num):\n",
    "        if(num%i==0):\n",
    "            print(num,\"is not a prime number\")\n",
    "            break\n",
    "    else:\n",
    "        print(num,\"is a prime number\")\n",
    "        \n",
    "else: # if the input number is less than or equal to 1\n",
    "\n",
    "    print(num,\"is not a prime number\")\n",
    "    "
   ]
  },
  {
   "cell_type": "code",
   "execution_count": 20,
   "id": "62f625c0-e0ee-4dc8-b038-4747fefdcd54",
   "metadata": {},
   "outputs": [
    {
     "name": "stdin",
     "output_type": "stream",
     "text": [
      "Enter the score dfdf\n"
     ]
    },
    {
     "ename": "ValueError",
     "evalue": "invalid literal for int() with base 10: 'dfdf'",
     "output_type": "error",
     "traceback": [
      "\u001b[0;31m---------------------------------------------------------------------------\u001b[0m",
      "\u001b[0;31mValueError\u001b[0m                                Traceback (most recent call last)",
      "Cell \u001b[0;32mIn[20], line 5\u001b[0m\n\u001b[1;32m      1\u001b[0m \u001b[38;5;66;03m# ELIF STATEMENTS\u001b[39;00m\n\u001b[1;32m      2\u001b[0m \n\u001b[1;32m      3\u001b[0m \u001b[38;5;66;03m#  Write a Python program to assign grades based on different ranges of scores using elif statements.\u001b[39;00m\n\u001b[0;32m----> 5\u001b[0m student_score \u001b[38;5;241m=\u001b[39m \u001b[38;5;28;43mint\u001b[39;49m\u001b[43m(\u001b[49m\u001b[38;5;28;43minput\u001b[39;49m\u001b[43m(\u001b[49m\u001b[38;5;124;43m\"\u001b[39;49m\u001b[38;5;124;43mEnter the score\u001b[39;49m\u001b[38;5;124;43m\"\u001b[39;49m\u001b[43m)\u001b[49m\u001b[43m)\u001b[49m \u001b[38;5;66;03m# The user inputted score is stored in the variable score\u001b[39;00m\n\u001b[1;32m      8\u001b[0m \u001b[38;5;66;03m# checks the scores from 0 to 100 and assigns the grade\u001b[39;00m\n\u001b[1;32m     10\u001b[0m \u001b[38;5;28;01mif\u001b[39;00m student_score\u001b[38;5;241m<\u001b[39m\u001b[38;5;241m=\u001b[39m\u001b[38;5;241m0\u001b[39m: \u001b[38;5;66;03m#check the student scores inputed and prints a output if that block is true\u001b[39;00m\n",
      "\u001b[0;31mValueError\u001b[0m: invalid literal for int() with base 10: 'dfdf'"
     ]
    }
   ],
   "source": [
    "# ELIF STATEMENTS\n",
    "\n",
    "#  Write a Python program to assign grades based on different ranges of scores using elif statements.\n",
    "\n",
    "student_score = int(input(\"Enter the score\")) # The user inputted score is stored in the variable score\n",
    "\n",
    "\n",
    "# checks the scores from 0 to 100 and assigns the grade\n",
    "\n",
    "if student_score<=0: #check the student scores inputed and prints a output if that block is true\n",
    "    print(\"Enter a valid score\")\n",
    "elif student_score<=30:  #checks if the score is less than or equal to 30\n",
    "    print(\"your grade is 'D' you need to work hard\")\n",
    "elif student_score>30 and student_score<=60: # checks if a score is between 30 to 60\n",
    "    print(\"Your grade is 'C' you need more improvement\")\n",
    "elif student_score >60 and student_score<=70: # checks if a score is between 70 to 60\n",
    "    print(\"Your grade is 'B', You are good\")\n",
    "elif student_score>70 and student_score<=100: # checks if the score is between 70 to 100\n",
    "    print(\"Your grade is 'A' ,Excellent\")\n",
    "else:\n",
    "    print(\"Invalid score entered\")"
   ]
  },
  {
   "cell_type": "raw",
   "id": "f5ad725a-f152-4a24-80b1-67bd2f8e00e4",
   "metadata": {},
   "source": []
  },
  {
   "cell_type": "code",
   "execution_count": 6,
   "id": "60ee9078-4b02-478e-b052-396a7d0a4755",
   "metadata": {},
   "outputs": [
    {
     "name": "stdin",
     "output_type": "stream",
     "text": [
      "Enter the angle 90\n"
     ]
    },
    {
     "name": "stdout",
     "output_type": "stream",
     "text": [
      "It is a right angled triangle\n"
     ]
    }
   ],
   "source": [
    "# Question 2 \n",
    "\n",
    "# implement a program to determine the type of a triangle based on its angles\n",
    "\n",
    "\n",
    "angle = int(input(\"Enter the angle\")) # stores the value of the angle in variable angle\n",
    "\n",
    "# check if the angle is less than 90 or equal to 90 or more than 90 \n",
    "if angle==90:\n",
    "    print(\"It is a right angled triangle\") # if angle is = 90 it is right angle triangle\n",
    "elif angle<90:\n",
    "    print(\"It is a acute angled triangle\")  # if angle is less than 90 it is acute angle triangle\n",
    "else:\n",
    "    print(\"It is a obtuse angled triangle\")  # if angle is more than 90 it is obtuse angle triangle\n",
    "\n"
   ]
  },
  {
   "cell_type": "code",
   "execution_count": 14,
   "id": "bd335a91-07b4-46ca-ba39-1420b245a60f",
   "metadata": {},
   "outputs": [
    {
     "name": "stdin",
     "output_type": "stream",
     "text": [
      "Enter the weight 67\n",
      "Enter the height 175\n"
     ]
    },
    {
     "name": "stdout",
     "output_type": "stream",
     "text": [
      "21.88\n",
      "Your bmi is 21.88, NORMAL\n"
     ]
    }
   ],
   "source": [
    "# Question 3\n",
    "\n",
    "# Develop a program to categorize a given person's BMI into underweight, normal, overweight, or obese using elif statements.\n",
    "\n",
    "weight = float(input(\"Enter the weight\")) # The inputted height and weight are stored in variables\n",
    "height = float(input(\"Enter the height\"))\n",
    "\n",
    "\n",
    "bmi = round(weight / (height/100)**2,2)     # The bmi is calculated using this formula\n",
    "print(bmi)\n",
    "\n",
    "if bmi<18.5:                         # the condition and checked based on the bmi value\n",
    "    print(f\"Your bmi is {bmi}, UNDERWEIGHT\") # The block which becomes true is executed\n",
    "elif bmi>=18.5 and bmi<=24.9:\n",
    "    print(f\"Your bmi is {bmi}, NORMAL\")\n",
    "elif bmi>=25 and bmi<=29.9:\n",
    "    print(f\"Your bmi is {bmi}, OVERWEIGHT\")\n",
    "elif bmi>30:\n",
    "    print(f\"Your bmi is {bmi}, OBESE\")\n"
   ]
  },
  {
   "cell_type": "code",
   "execution_count": 17,
   "id": "47dea99d-2c1b-480b-904a-2089e42923e1",
   "metadata": {},
   "outputs": [
    {
     "name": "stdin",
     "output_type": "stream",
     "text": [
      "Enter the number: 25\n"
     ]
    },
    {
     "name": "stdout",
     "output_type": "stream",
     "text": [
      "The number 25 is positive\n"
     ]
    }
   ],
   "source": [
    "# Question 4\n",
    "\n",
    "# Create a program that determines whether a given number is positive, negative, or zero using elif statements\n",
    "\n",
    "number = int(input(\"Enter the number:\")) # The user input is stored in variable number\n",
    "\n",
    "if number==0:                          # checks if the user input is equal to 0\n",
    "    print(f\"The number  is {number} \")\n",
    "elif number<0:\n",
    "    print(f\"The number {number} is negative\")# if the number is less than 0 it is negative\n",
    "else:\n",
    "    print(f\"The number {number} is positive\") # if the number is greater than 0 it is positive\n"
   ]
  },
  {
   "cell_type": "code",
   "execution_count": 30,
   "id": "0c2f019e-e999-4026-9928-720e96ecce48",
   "metadata": {},
   "outputs": [
    {
     "name": "stdin",
     "output_type": "stream",
     "text": [
      "Enter the character #\n"
     ]
    },
    {
     "name": "stdout",
     "output_type": "stream",
     "text": [
      "The character # is a special character\n"
     ]
    }
   ],
   "source": [
    "# Question 5\n",
    "\n",
    "# Write a Python script to determine the type of a character (uppercase, lowercase, or special) using elif statements.\n",
    "\n",
    "character = input(\"Enter the character\") # the user input is stored in character variable\n",
    "\n",
    "if character.isalnum()==False: # The alnum() is used to check if the character is alpha numeric otherwise it is special\n",
    "    print(f\"The character {character} is a special character\")\n",
    "elif character.isupper(): # the upper() is used to convert the word to uppercase\n",
    "    print(f\"The character {character} is uppercase\")\n",
    "    \n",
    "elif character.islower(): # the lower() is used to convert the word to lowercase\n",
    "    print(f\"The character {character} is lowercase\")\n"
   ]
  },
  {
   "cell_type": "code",
   "execution_count": 38,
   "id": "b9e001e7-625f-4721-a885-79128952b566",
   "metadata": {},
   "outputs": [
    {
     "name": "stdout",
     "output_type": "stream",
     "text": [
      "Items available are phone, laptop and tablet\n",
      "\n"
     ]
    },
    {
     "name": "stdin",
     "output_type": "stream",
     "text": [
      "Enter the item laptop\n"
     ]
    },
    {
     "name": "stdout",
     "output_type": "stream",
     "text": [
      "The list price is 80000 Rs\n",
      "The selling price is 50000 Rs\n",
      "The discount is 30000 Rs\n"
     ]
    }
   ],
   "source": [
    "# Question 6\n",
    "\n",
    "#  Implement a program to calculate the discounted price based on different purchase amounts using elif statements.\n",
    "\n",
    "print(\"Items available are phone, laptop and tablet\\n\")\n",
    "\n",
    "item = input(\"Enter the item\") # The user inputted item is stored in item\n",
    "\n",
    "if item==\"phone\": # this block calculates the discount if the user wanted phone\n",
    "    list_price = 20000\n",
    "    selling_price = 10000\n",
    "    discount = list_price-selling_price\n",
    "    print(f\"The list price is {list_price} Rs\")\n",
    "    print(f\"The selling price is {selling_price} Rs\")\n",
    "    print(f\"The discount is {discount} Rs\")\n",
    "elif item==\"laptop\":     # this block calculates the discount for laptop\n",
    "    list_price = 80000\n",
    "    selling_price = 50000\n",
    "    discount = list_price-selling_price\n",
    "    print(f\"The list price is {list_price} Rs\")\n",
    "    print(f\"The selling price is {selling_price} Rs\")\n",
    "    print(f\"The discount is {discount} Rs\")\n",
    "\n",
    "elif item==\"tablet\": # this block calculates the discount for tablet\n",
    "    list_price = 40000\n",
    "    selling_price = 20000\n",
    "    discount = list_price-selling_price\n",
    "    print(f\"The list price is {list_price} Rs\")\n",
    "    print(f\"The selling price is {selling_price} Rs\")\n",
    "    print(f\"The discount is {discount} Rs\")\n",
    "    \n",
    "else:\n",
    "    print(\"Select a valid item\") # if the user inputs something other than the list of items it is triggerd\n",
    "    \n",
    "    \n"
   ]
  },
  {
   "cell_type": "code",
   "execution_count": 37,
   "id": "732d1919-5043-4ba9-bf9b-0407b3e71dfa",
   "metadata": {},
   "outputs": [
    {
     "name": "stdin",
     "output_type": "stream",
     "text": [
      " Please enter Number of Units you Consumed :  1200\n"
     ]
    },
    {
     "name": "stdout",
     "output_type": "stream",
     "text": [
      "Electricity Bill = 134.80\n"
     ]
    }
   ],
   "source": [
    "# Question 7\n",
    "\n",
    "# Develop a program to calculate the electricity bill based on different consumption slabs using elif statements.\n",
    "\n",
    "units = int(input(\" Please enter Number of Units you Consumed : \")) # user input of the number of units is stored in variable units\n",
    "\n",
    "if(units < 50):\n",
    "    amount = units * 2.60\n",
    "    extracharge = 25 # Extra charge is 25\n",
    "elif(units <= 100):\n",
    "    amount = 130 + ((units - 50) * 3.25)\n",
    "    extracharge= 35 # Extra charge is 35\n",
    "elif(units <= 200):\n",
    "    amount = 130 + 162.50 + ((units - 100) * 5.26)\n",
    "    extracharge = 45 # Extra charge is 45\n",
    "else:\n",
    "     extracharge = 75 # Extra charge is 75   \n",
    "total = amount + extracharge\n",
    "print(\"Electricity Bill = %.2f\"  %total)\n"
   ]
  },
  {
   "cell_type": "code",
   "execution_count": null,
   "id": "fda19473-7e88-4c2c-ba73-69e47b5f66a9",
   "metadata": {},
   "outputs": [],
   "source": [
    "# Question 8\n",
    "\n",
    "# Create a program to determine the type of quadrilateral based on its angles and sides using elif statements.\n",
    "\n",
    "sides = int(input(\"Enter the sides\"))\n",
    "angles = int(input(\"enter the angle\"))\n"
   ]
  },
  {
   "cell_type": "code",
   "execution_count": 48,
   "id": "1a362bb7-4fe0-4cab-b4d5-5a22957c8ae5",
   "metadata": {},
   "outputs": [
    {
     "name": "stdin",
     "output_type": "stream",
     "text": [
      "Input the month (e.g. January, February etc.):  july\n"
     ]
    },
    {
     "name": "stdout",
     "output_type": "stream",
     "text": [
      "The season is summer\n"
     ]
    }
   ],
   "source": [
    "# Question 9\n",
    "\n",
    "#  Write a Python script to determine the season based on a user-provided month using elif statements.\n",
    "\n",
    "month = input(\"Input the month (e.g. January, February etc.): \") # The user input is stored in month\n",
    "\n",
    "if month in ('january', 'february', 'march'): # check if the month is in the list print the output\n",
    "\tseason = 'winter'\n",
    "elif month in ('april', 'may', 'june'):\n",
    "\tseason = 'spring'\n",
    "elif month in ('july', 'august', 'september'):\n",
    "\tseason = 'summer'\n",
    "else:\n",
    "\tseason = 'autumn'\n",
    "\n",
    "print(f\"The season is {season}\")\n"
   ]
  },
  {
   "cell_type": "code",
   "execution_count": null,
   "id": "34095b6b-a32f-43eb-b2cb-59f2fde75f40",
   "metadata": {},
   "outputs": [],
   "source": [
    "# Question 10\n",
    "\n",
    "#  Implement a program to determine the type of a year (leap or common) and month (30 or 31 days) using elif 21`statements.1\n",
    "\n",
    "year=int(input(\"Enter the year:\")) # The user input is stored in the variable year\n",
    "if(year%4==0 and year%100!=0 or year%400==0):# if the entered year is divisible by 4 it is a leap year \n",
    "    print(\"The year is a leap year!\")        # if the year is divisible by 100 check if it is also divisible by 400 then it is a leap if it not it is not a leap year\n",
    "else:\n",
    "    print(\"The year isn't a leap year!\")"
   ]
  },
  {
   "cell_type": "code",
   "execution_count": 39,
   "id": "498a3dd0-afc0-4b96-8095-cded0948f770",
   "metadata": {},
   "outputs": [
    {
     "name": "stdin",
     "output_type": "stream",
     "text": [
      "Enter the number 3\n"
     ]
    },
    {
     "name": "stdout",
     "output_type": "stream",
     "text": [
      "The number 3 is positive\n"
     ]
    }
   ],
   "source": [
    "# BASIC LEVEL\n",
    "\n",
    "# Question 1\n",
    "\n",
    "# Write a Python program that checks if a given number is positive, negative, or zero\n",
    "\n",
    "number = int(input(\"Enter the number\")) # The user input is stored in variable number\n",
    "\n",
    "if number==0:  # checks if the user input is equal to 0\n",
    "    print(f\"The number  is {number} \")\n",
    "elif number<0:\n",
    "    print(f\"The number {number} is negative\")# if the number is less than 0 it is negative\n",
    "else:\n",
    "    print(f\"The number {number} is positive\") # if the number is greater than 0 it is positive\n",
    "\n"
   ]
  },
  {
   "cell_type": "code",
   "execution_count": 41,
   "id": "4c7ddf22-402c-40af-8ebb-ddea36e3e8c6",
   "metadata": {},
   "outputs": [
    {
     "name": "stdin",
     "output_type": "stream",
     "text": [
      "Enter the age: 1\n"
     ]
    },
    {
     "name": "stdout",
     "output_type": "stream",
     "text": [
      "You are not eligible for voting , You should get Older\n"
     ]
    }
   ],
   "source": [
    "# Question 2\n",
    "\n",
    "#  Create a program to determine if a person is eligible to vote based on their age.\n",
    "\n",
    "age = int(input(\"Enter the age:\")) # get the user input and store it in age\n",
    "\n",
    "if age<18: # check if the age is less than 18\n",
    "    print(\"You are not eligible for voting , You should get Older\")\n",
    "elif age>=18: # checks if the age is greater or equal to 18\n",
    "    print(f\"You are eligible for voting, your age is {age}\")"
   ]
  },
  {
   "cell_type": "code",
   "execution_count": 43,
   "id": "1f60382f-e171-48f4-a7a1-42a3cfe0c51f",
   "metadata": {},
   "outputs": [
    {
     "name": "stdin",
     "output_type": "stream",
     "text": [
      "Enter the first number: 23\n",
      "Enter the second number: 34\n"
     ]
    },
    {
     "name": "stdout",
     "output_type": "stream",
     "text": [
      "34 > 23\n"
     ]
    }
   ],
   "source": [
    "# Question 3\n",
    "\n",
    "# Write a program to find the maximum of two given numbers using conditional statements\n",
    "\n",
    "num1 = int(input(\"Enter the first number:\"))  # The input is taken from the user and stored in num1 and num2\n",
    "num2 = int(input(\"Enter the second number:\"))\n",
    "\n",
    "if num1>num2: # checks if num1 is greater than num2 \n",
    "    print(f\"{num1} > {num2}, first number is greater\") # if the condition is true it prints this line\n",
    "else:\n",
    "    print(f\"{num2} > {num1} , second number is greater\") # else it prints this line\n"
   ]
  },
  {
   "cell_type": "code",
   "execution_count": 45,
   "id": "be2c4b28-3e99-4878-ba5d-6878761ca844",
   "metadata": {},
   "outputs": [
    {
     "name": "stdin",
     "output_type": "stream",
     "text": [
      "Enter the score 40\n"
     ]
    },
    {
     "name": "stdout",
     "output_type": "stream",
     "text": [
      "Your grade is 'C' you need more improvement\n"
     ]
    }
   ],
   "source": [
    "# Question 4\n",
    "\n",
    "# Develop a program that calculates the grade of a student based on their exam score.\n",
    "\n",
    "student_score = int(input(\"Enter the score\")) # The user inputted score is stored in the variable score\n",
    "\n",
    "\n",
    "# checks the scores from 0 to 100 and assigns the grade\n",
    "\n",
    "if student_score<=0: #check the student scores inputed and prints a output if that block is true\n",
    "    print(\"Enter a valid score\")\n",
    "elif student_score<=30:  #checks if the score is less than or equal to 30\n",
    "    print(\"your grade is 'D' you need to work hard\")\n",
    "elif student_score>30 and student_score<=60: # checks if a score is between 30 to 60\n",
    "    print(\"Your grade is 'C' you need more improvement\")\n",
    "elif student_score >60 and student_score<=70: # checks if a score is between 70 to 60\n",
    "    print(\"Your grade is 'B', You are good\")\n",
    "elif student_score>70 and student_score<=100: # checks if the score is between 70 to 100\n",
    "    print(\"Your grade is 'A' ,Excellent\")\n",
    "else:\n",
    "    print(\"Invalid score entered\")"
   ]
  },
  {
   "cell_type": "code",
   "execution_count": 46,
   "id": "5483c5e2-0eef-42e0-ace1-5881297fceee",
   "metadata": {},
   "outputs": [
    {
     "name": "stdin",
     "output_type": "stream",
     "text": [
      "Enter  the year: 1999\n"
     ]
    },
    {
     "name": "stdout",
     "output_type": "stream",
     "text": [
      "The year isn't a leap year!\n"
     ]
    }
   ],
   "source": [
    "#Question 5\n",
    "\n",
    "# Create a program that checks if a year is a leap year or not.\n",
    "\n",
    "year=int(input(\"Enter  the year:\")) # The user input is stored in the variable year\n",
    "if(year%4==0 and year%100!=0 or year%400==0):# if the entered year is divisible by 4 it is a leap year \n",
    "    print(\"The year is a leap year!\")        # if the year is divisible by 100 check if it is also divisible by 400 then it is a leap if it not it is not a leap year\n",
    "else:\n",
    "    print(\"The year isn't a leap year!\")"
   ]
  },
  {
   "cell_type": "code",
   "execution_count": 47,
   "id": "c2e46585-82c2-4d56-8498-a417e9166663",
   "metadata": {},
   "outputs": [
    {
     "name": "stdin",
     "output_type": "stream",
     "text": [
      "Enter the side of the triangle:  20\n",
      "Enter the side of the triangle:  20\n",
      "Enter the side of the triangle:  20\n"
     ]
    },
    {
     "name": "stdout",
     "output_type": "stream",
     "text": [
      "It is an equilateral triangle\n"
     ]
    }
   ],
   "source": [
    "# Question 6\n",
    "\n",
    "# Write a program to classify a triangle based on its sides' lengths.\n",
    "\n",
    "x = int(input(\"Enter the side of the triangle: \")) # The sides of the triangle is stored in three variables x,y,z\n",
    "y = int(input(\"Enter the side of the triangle: \"))\n",
    "z = int(input(\"Enter the side of the triangle: \"))\n",
    "\n",
    "# check the sides of the triangle \n",
    "\n",
    "if x==y==z:  # if all the sides are equal it is an equilateral triangle\n",
    "    print(\"It is an equilateral triangle\")\n",
    "elif x==y or y==z or z==x: # if any two sides are equal it is an isosceles triangle\n",
    "    print(\"It is an isosceles triangle\") \n",
    "else:\n",
    "    print(\"It is a scalene triangle\") #if neither of the sides are equal it is a scalene triangle"
   ]
  },
  {
   "cell_type": "code",
   "execution_count": 1,
   "id": "4a91c2ae-9221-4a81-94fb-d3d1604c430a",
   "metadata": {},
   "outputs": [
    {
     "name": "stdin",
     "output_type": "stream",
     "text": [
      "Enter the first number 4\n",
      "Enter the second number 5\n",
      "Enter the third number 6\n"
     ]
    },
    {
     "name": "stdout",
     "output_type": "stream",
     "text": [
      "number 3 6 is greater\n"
     ]
    }
   ],
   "source": [
    "# Question 7 \n",
    "\n",
    "#  Build a program that determines the largest of three given numbers\n",
    "\n",
    "num1 = int(input(\"Enter the first number\")) # three variables are initialized to store the user input \n",
    "num2 = int(input(\"Enter the second number\"))\n",
    "num3 = int(input(\"Enter the third number\"))\n",
    "\n",
    "if num1>num2 and num1>num3: # check the condition using and operator\n",
    "    print(f\"number 1 '{num1}' is greater\")\n",
    "elif num3>num1 and num3>num2:\n",
    "    print(f\"number 3 '{num3}' is greater\")\n",
    "else:\n",
    "    print(f\"number 2 '{num2}' is greater\")   # print the result\n"
   ]
  },
  {
   "cell_type": "code",
   "execution_count": 3,
   "id": "18705891-34fb-4705-9c70-133aa8b1acf7",
   "metadata": {},
   "outputs": [
    {
     "name": "stdin",
     "output_type": "stream",
     "text": [
      "Enter the character z\n"
     ]
    },
    {
     "name": "stdout",
     "output_type": "stream",
     "text": [
      "The character 'z' is a consonant\n"
     ]
    }
   ],
   "source": [
    "# Question 8\n",
    "\n",
    "# Develop a program that checks whether a character is a vowel or a consonant.\n",
    "\n",
    "vowels = ['a','e','i','o','u'] #vowels are stored in vowels variable\n",
    "\n",
    "c = input(\"Enter the character\") # The user input is stored in c\n",
    "\n",
    "if c in vowels: # check whether a character is a vowel or consonant and print the result\n",
    "    print(f\"The character '{c}' is a vowel\")\n",
    "else:\n",
    "    print(f\"The character '{c}' is a consonant\")\n"
   ]
  },
  {
   "cell_type": "code",
   "execution_count": 24,
   "id": "e024f98f-a4b9-4e3a-a0b7-e946a8436fd2",
   "metadata": {},
   "outputs": [
    {
     "name": "stdout",
     "output_type": "stream",
     "text": [
      "THE ITEMS AVAILABLE ARE 'mobile','laptop','TV','watch'\n"
     ]
    },
    {
     "name": "stdin",
     "output_type": "stream",
     "text": [
      "Enter the number of items you want 4\n",
      "Enter the item mobile\n",
      "Enter the item laptop\n",
      "Enter the item tv\n",
      "Enter the item watch\n"
     ]
    },
    {
     "name": "stdout",
     "output_type": "stream",
     "text": [
      "The items in  your cart are ['mobile', 'laptop', 'tv', 'watch']\n",
      "The total price based on discount is 135000-30000 =  105000\n"
     ]
    }
   ],
   "source": [
    "# Question 9\n",
    "\n",
    "# Create a program to calculate the total cost of a shopping cart based on discounts.\n",
    "\n",
    "print(\"THE ITEMS AVAILABLE ARE 'mobile','laptop','TV','watch'\") # print the items which are available for the purchase\n",
    "\n",
    "no_of_items = int(input(\"Enter the number of items you want\")) # ask the user for total number of items they want\n",
    "\n",
    "cart = [] # initialize a variable cart to store the cart items \n",
    "\n",
    "for item in range(0,no_of_items): # use a loop to get the number of items the user wants accordingly\n",
    "    cart.append(input(\"Enter the item\"))\n",
    "print(f\"The items in  your cart are {cart}\")\n",
    "\n",
    "price_list = {\"mobile\":10000,\"laptop\":70000, \"tv\":50000,\"watch\":5000}  # initialize the dictionary with total cost price and discount price\n",
    "discount_list = {\"mobile\":5000,\"laptop\":10000,\"tv\":13000,\"watch\":2000}\n",
    "total_cost = 0 # initialize two variables to store the total cost and discount price\n",
    "discount_price = 0\n",
    "\n",
    "for i in cart: # loop through the cart and calculate the prices\n",
    "    total_cost+=price_list[i]\n",
    "    discount_price+=discount_list[i]\n",
    "        \n",
    "print(f\"The total price based on discount is {total_cost}-{discount_price} = \",total_cost-discount_price)\n",
    "    \n",
    "# print the result"
   ]
  },
  {
   "cell_type": "code",
   "execution_count": 3,
   "id": "a9b10226-ad0b-4a9a-83f5-599c63870a24",
   "metadata": {},
   "outputs": [
    {
     "name": "stdin",
     "output_type": "stream",
     "text": [
      "Enter the number: 2343\n"
     ]
    },
    {
     "name": "stdout",
     "output_type": "stream",
     "text": [
      "The number 2343 is odd\n"
     ]
    }
   ],
   "source": [
    "# Question 10\n",
    "\n",
    "# Write a program that checks if a given number is even or odd.\n",
    "\n",
    "\n",
    "number = int(input(\"Enter the number:\")) # The user input is stored in variable number\n",
    "\n",
    "if number%2==0: # check if the user input is even or odd by modulo operator\n",
    "    print(f\"The number {number} is even\")\n",
    "else:\n",
    "    print(f\"The number {number} is odd\")"
   ]
  },
  {
   "cell_type": "code",
   "execution_count": null,
   "id": "9ac85a2f-d68b-482b-aa43-091ab2c4eb12",
   "metadata": {},
   "outputs": [],
   "source": [
    "# INTERMEDIATE LEVEL\n",
    "\n",
    "# Question 1\n",
    "\n",
    "# Write a program that calculates the roots of a quadratic equation \n",
    "\n",
    "import cmath # import the cmath module\n",
    "\n",
    "a = int(input(\"Enter the value of a:\"))\n",
    "b = int(input(\"Enter the value of b:\"))\n",
    "c = int(input(\"Enter the value of c:\"))\n",
    " \n",
    "# calculating  the discriminant\n",
    "\n",
    "discriminant = (b**2) - (4 * a*c)\n",
    " \n",
    "# find two results\n",
    "\n",
    "root1 = (-b-cmath.sqrt(discriminant))/(2 * a)\n",
    "root2 = (-b + cmath.sqrt(discriminant))/(2 * a)\n",
    " \n",
    "# printing the results\n",
    "\n",
    "print('The roots are')\n",
    "print(root1)\n",
    "print(root2)"
   ]
  },
  {
   "cell_type": "code",
   "execution_count": null,
   "id": "6e9add47-ebb8-4570-9f16-622fa9f9ea5c",
   "metadata": {},
   "outputs": [],
   "source": [
    "# Question 2\n",
    "\n",
    "#  Create a program that determines the day of the week based on the day number (1-7).\n",
    "\n",
    "day = int(input(\"Enter the number of day:\")) # The number of day is stored in the day variable\n",
    "\n",
    "for i in range(1,8): # loop through the dictionary using for loop and access the value by using the key\n",
    "    if day==i:\n",
    "        print(f\"The day is {days_of_week[i]}\")\n",
    "    \n",
    "else:\n",
    "    print(\"Enter a valid input\") # if the user input is invalid this is printed"
   ]
  },
  {
   "cell_type": "code",
   "execution_count": 49,
   "id": "ed0ef827-07dc-4647-99cf-57deb2a62448",
   "metadata": {},
   "outputs": [
    {
     "name": "stdin",
     "output_type": "stream",
     "text": [
      "Enter the number: 5\n"
     ]
    },
    {
     "name": "stdout",
     "output_type": "stream",
     "text": [
      "number :  5\n",
      "Factorial :  120\n"
     ]
    }
   ],
   "source": [
    "# Question 3\n",
    "\n",
    "# Develop a program that calculates the factorial of a given number using recursion.\n",
    "\n",
    "def factorial(n): \n",
    "    if (n==1 or n==0): # check if the number is 1 or 0 mand return 1 \n",
    "         \n",
    "        return 1\n",
    "     \n",
    "    else:\n",
    "         \n",
    "        return (n * factorial(n - 1)) #else return the factorial\n",
    "    \n",
    "num = int(input(\"Enter the number:\")) # The user input is stored in num variable\n",
    "print(\"number : \",num)\n",
    "print(\"Factorial : \",factorial(num))\n",
    "\n"
   ]
  },
  {
   "cell_type": "code",
   "execution_count": 7,
   "id": "1d9f605d-9f8b-4c06-b72e-e332c1f1bb76",
   "metadata": {},
   "outputs": [
    {
     "name": "stdin",
     "output_type": "stream",
     "text": [
      "Enter the first number 34\n",
      "Enter the second number 67\n",
      "Enter the third number 90\n"
     ]
    },
    {
     "name": "stdout",
     "output_type": "stream",
     "text": [
      "number 3 '90' is greater\n"
     ]
    }
   ],
   "source": [
    "# Question 4 \n",
    "\n",
    "#  Write a program to find the largest among three numbers without using the `max()` function.\n",
    "\n",
    "num1 = int(input(\"Enter the first number\")) # three variables are initialized to store the user input \n",
    "num2 = int(input(\"Enter the second number\"))\n",
    "num3 = int(input(\"Enter the third number\"))\n",
    "\n",
    "if num1>num2 and num1>num3: # check the condition using and operator\n",
    "    print(f\"number 1 '{num1}' is greater\")\n",
    "elif num3>num1 and num3>num2:\n",
    "    print(f\"number 3 '{num3}' is greater\")\n",
    "else:\n",
    "    print(f\"number 2 '{num2}' is greater\")   # print the result\n"
   ]
  },
  {
   "cell_type": "code",
   "execution_count": 55,
   "id": "fa09fff8-e0ad-4747-b1e8-f8d447af137f",
   "metadata": {},
   "outputs": [
    {
     "name": "stdout",
     "output_type": "stream",
     "text": [
      "Welcome to the Sample ATM\n"
     ]
    },
    {
     "name": "stdin",
     "output_type": "stream",
     "text": [
      "Please enter your four digit pin:  1234\n"
     ]
    },
    {
     "name": "stdout",
     "output_type": "stream",
     "text": [
      "what do you want to do\n",
      " Enter 1 to Widthdraw Cash \n",
      " Enter 2 for Balance Enquiry \n",
      " Enter 3 to Quit\n"
     ]
    },
    {
     "name": "stdin",
     "output_type": "stream",
     "text": [
      "Enter the number corresponding to the activity you want to do:  1\n",
      "Enter the amount of money you want to widthdraw:  2000\n"
     ]
    },
    {
     "name": "stdout",
     "output_type": "stream",
     "text": [
      "2000 rupees successfully widthdrawn your remaining balance is 28000 rupees\n",
      "\n",
      "what do you want to do\n",
      " Enter 1 to Widthdraw Cash \n",
      " Enter 2 for Balance Enquiry \n",
      " Enter 3 to Quit\n"
     ]
    },
    {
     "name": "stdin",
     "output_type": "stream",
     "text": [
      "Enter the number corresponding to the activity you want to do:  3\n"
     ]
    }
   ],
   "source": [
    "# Question 5 \n",
    "#  Create a program that simulates a basic ATM transaction menu.\n",
    "\n",
    "\n",
    "def widthdraw_cash(): # defining a function to withdraw cash\n",
    "    while True: \n",
    "        amount = int(input(\"Enter the amount of money you want to widthdraw: \")) # get the amount that user wants to withdraw \n",
    "        if amount > user['balance']: # if the amount is less than the user balamce it withdraws else prints error\n",
    "            print(\"You don't have sufficient balance to make this widthdrawal\")\n",
    "        else:\n",
    "            user['balance'] = user['balance'] - amount\n",
    "            print(f\"{amount} rupees successfully widthdrawn your remaining balance is {user['balance']} rupees\")\n",
    "            print('')\n",
    "            return False\n",
    "\n",
    "def balance_enquiry(): #defining a function to enquire balance\n",
    "    print(f\"Total balance {user['balance']} Rupees\") # The total balance is printed\n",
    "    print('')\n",
    "\n",
    "user = {\n",
    "    'pin': 1234,\n",
    "    'balance':30000\n",
    "}                  # The user details are stored in dictionary user_details\n",
    "\n",
    "\n",
    "\n",
    "is_quit = False  #set up a variable is quit to false to keep the while loop running\n",
    "print(\"Welcome to the Sample ATM\")    # prints the welcome message and asks for the pin\n",
    "\n",
    "pin = int(input('Please enter your four digit pin: ')) \n",
    "\n",
    "if pin == user['pin']: #check if the pin entered by the user is correct\n",
    "    while is_quit == False: #\n",
    "        print(\"what do you want to do\")\n",
    "        print(\" Enter 1 to Widthdraw Cash \\n Enter 2 for Balance Enquiry \\n Enter 3 to Quit\")\n",
    "\n",
    "        query = int(input(\"Enter the number corresponding to the activity you want to do: \")) # ENter the number of the activity\n",
    "\n",
    "        if query == 1: #if query is 1 then trigger the function withdraw cash\n",
    "            widthdraw_cash()\n",
    "        elif query == 2:  # if query is 2 trigger the function balance enquiry\n",
    "            balance_enquiry()\n",
    "        elif query == 3:  # if query is 3 then is _quit becomes true and the loop is exited\n",
    "            is_quit = True\n",
    "\n",
    "        else:\n",
    "            print(\"Please enter a correct value shown\")\n",
    "else:\n",
    "    print(\"You entered wrong pin\")\n",
    "\n"
   ]
  },
  {
   "cell_type": "code",
   "execution_count": 8,
   "id": "3d0caabb-92c6-4d50-b6ed-a255bf69f497",
   "metadata": {},
   "outputs": [
    {
     "name": "stdin",
     "output_type": "stream",
     "text": [
      "Enter the string saji\n"
     ]
    },
    {
     "name": "stdout",
     "output_type": "stream",
     "text": [
      "The string is not palindrome\n"
     ]
    }
   ],
   "source": [
    "# Question 6\n",
    "\n",
    "# Build a program that checks if a given string is a palindrome or not.\n",
    "\n",
    "s = input(\"Enter the string\") # store the user input in the variable s\n",
    "\n",
    "if s==s[::-1]: # check if the string is palindrome by reversing the string\n",
    "    print(\"The string is palindrome\")\n",
    "else:\n",
    "    print(\"The string is not palindrome\") # print the output\n"
   ]
  },
  {
   "cell_type": "code",
   "execution_count": 22,
   "id": "c741a1c9-bd6e-4e2e-82d7-88cc09dcac77",
   "metadata": {},
   "outputs": [
    {
     "name": "stdout",
     "output_type": "stream",
     "text": [
      "The list after removing the minimum and maximum elements is\n",
      " [2, 3, 4, 5, 6, 7, 8]\n",
      "The average is 5.0\n"
     ]
    }
   ],
   "source": [
    "# Question 7\n",
    "\n",
    "#  Write a program that calculates the average of a list of numbers, excluding the smallest and largest values\n",
    "\n",
    "sample_list = [1,2,3,4,5,6,7,8,9] # initialize a sample list\n",
    "\n",
    "sample_list.remove(max(sample_list)) # Remove the minimum and maximum elements using min() max()\n",
    "sample_list.remove(min(sample_list))\n",
    "\n",
    "print(\"The list after removing the minimum and maximum elements is\\n\",sample_list)\n",
    "\n",
    "average = sum(sample_list)/len(sample_list) # The total sum is calculated by sum() and the len() for the list of elements\n",
    "\n",
    "print(f\"The average is {average}\") # The average is printed\n"
   ]
  },
  {
   "cell_type": "code",
   "execution_count": 24,
   "id": "b44db1f4-427b-47d7-8f3f-24bcb88282d9",
   "metadata": {},
   "outputs": [
    {
     "name": "stdin",
     "output_type": "stream",
     "text": [
      "Enter the temperature in celsius: 98\n"
     ]
    },
    {
     "name": "stdout",
     "output_type": "stream",
     "text": [
      "98.0°C = 208.4°F\n"
     ]
    }
   ],
   "source": [
    "# Question 8\n",
    "\n",
    "# Develop a program that converts a given temperature from Celsius to Fahrenheit.\n",
    "\n",
    "celsius = float(input(\"Enter the temperature in celsius:\")) # The user input is stored in celsius\n",
    "\n",
    "fahrenheit_temperature = celsius * 9/5 +32 # The formula for converting celsius to fahrenheit\n",
    "print(f\"{celsius}°C = {fahrenheit_temperature}°F\")\n",
    "\n"
   ]
  },
  {
   "cell_type": "code",
   "execution_count": 29,
   "id": "aff233da-1bc5-438b-9e45-ffa8c0c51ba0",
   "metadata": {},
   "outputs": [
    {
     "name": "stdin",
     "output_type": "stream",
     "text": [
      "Enter the value of a: 2\n",
      "Enter the value of b: 3\n",
      "Enter the operation you want to perform ('+' '-' '*' '/' : *\n"
     ]
    },
    {
     "name": "stdout",
     "output_type": "stream",
     "text": [
      " 2.0 * 3.0 = 6.0\n"
     ]
    }
   ],
   "source": [
    "# Question 9\n",
    "\n",
    "# Create a program that simulates a basic calculator for addition, subtraction, multiplication, and division.\n",
    "\n",
    "a = float(input(\"Enter the value of a:\")) # The user input are stored in a and b\n",
    "b = float(input(\"Enter the value of b:\"))\n",
    "\n",
    "operations = {\"+\":a+b, \"-\":a-b, \"*\":a*b, \"/\":a/b} # an dictionary is initialized with the necessary operation as keys and values\n",
    "\n",
    "operation = input(\"Enter the operation you want to perform ('+' '-' '*' '/' :\") # Enter the type of operation\n",
    "                  \n",
    "for i in operations:  # looping through the dictionary if the the user input matches the key the operation is performed\n",
    "    if i==operation:\n",
    "        print(f\" {a} {operation} {b} = {operations[i]}\")\n",
    "                \n"
   ]
  },
  {
   "cell_type": "code",
   "execution_count": null,
   "id": "5728abca-2348-4d63-b50e-e7db91c967c8",
   "metadata": {},
   "outputs": [],
   "source": [
    "# Question 10\n",
    "\n",
    "# Write a program that determines the roots of a cubic equation using the Cardano formula.\n",
    "\n"
   ]
  },
  {
   "cell_type": "code",
   "execution_count": 38,
   "id": "ebb37e13-6bd6-4ec3-90a8-644f0def169c",
   "metadata": {},
   "outputs": [
    {
     "name": "stdin",
     "output_type": "stream",
     "text": [
      "Please enter your taxable income in india:  3000000\n"
     ]
    },
    {
     "name": "stdout",
     "output_type": "stream",
     "text": [
      "you need to pay 637500.0 Rupees Tax!\n"
     ]
    }
   ],
   "source": [
    "# ADVANCED LEVEL\n",
    "\n",
    "# Create a program that calculates the income tax based on the user's income and tax brackets.\n",
    "\n",
    "\n",
    "income = int(input(\"Please enter your taxable income in india: \")) #The input from the user is stored in the variable income\n",
    "\n",
    "tax = 0 # The tax variable is initialized to 0\n",
    "\n",
    "if income <= 250000:  # if the income is less than 2 lakh 50 thousand the tax is 0\n",
    "    tax = 0 \n",
    "elif income <= 500000: # if the income is less than 5 lakh but greater than 2 lakh 50 thousand a tax of 5 percent is added\n",
    "    tax = (income - 250000) * 0.05 # 5 percent is converted to decimal\n",
    "elif income <= 750000:        # if the income is  less than or equal to 7 lakh 50 thousand\n",
    "    tax = (income - 500000) * 0.10 + 12500 # Tax of 10 percent and additional charges 12500 added  \n",
    "elif income <= 1000000: # if it is less than or equal to 10 Lakh\n",
    "    tax = (income - 750000) * 0.15 + 37500 #Tax of 15 percent and additional charges 37500 added  \n",
    "elif income <= 1250000: # if it is less than or equal to 12 lakh 50 thousand\n",
    "    tax = (income - 1000000) * 0.20 + 75000 #Tax of 20 percent and additional charges 75000 added\n",
    "elif income <= 1500000: # if it is less than or equal to 15 lakh\n",
    "    tax = (income - 1250000) * 0.25 + 125000 #Tax of 25 percent and additional charges 125000 added\n",
    "else:\n",
    "    tax = (income - 1500000) * 0.30 + 187500 #Tax of 30 percent and additional charges 187500 added\n",
    "print(f\"you need to pay {tax} Rupees Tax!\")\n",
    "\n"
   ]
  },
  {
   "cell_type": "code",
   "execution_count": 45,
   "id": "5822f899-ac97-4ea3-8725-c80f69b0a341",
   "metadata": {},
   "outputs": [
    {
     "name": "stdin",
     "output_type": "stream",
     "text": [
      "Enter your choice\n",
      "'Rock'or'Paper'or'Scissor' paper\n"
     ]
    },
    {
     "name": "stdout",
     "output_type": "stream",
     "text": [
      " Scissor beats paper, Computer wins!\n"
     ]
    }
   ],
   "source": [
    "# Question 2\n",
    "\n",
    "# Write a program that simulates a rock-paper-scissors game against the computer\n",
    "\n",
    "import random # The random module is imported to generate random choices\n",
    "\n",
    "user_choice = input(\"Enter your choice\\n'Rock'or'Paper'or'Scissor'\").lower() # Ask the user choice and store it in user choice and also use the lower to change the case\n",
    "\n",
    "possible_choices = ['rock','paper','scissor'] # The possible choices a computer can make are stored in list\n",
    "\n",
    "computer_choice = random.choice(possible_choices) # Generate a random choice using the choice()\n",
    "\n",
    "# Check the user and computer choices\n",
    "# Rock beats scissor\n",
    "# Scissor beats paper\n",
    "# Paper beats rock\n",
    "\n",
    "if user_choice==computer_choice:\n",
    "    print(\"It is a draw\")\n",
    "elif user_choice==\"rock\":\n",
    "    if computer_choice==\"scissor\":\n",
    "        print(\" Rock beats scissor, You win!\")\n",
    "    else:\n",
    "        print(\"Paper beats rock, Computer wins!\")\n",
    "elif user_choice==\"paper\":\n",
    "    if computer_choice==\"rock\":\n",
    "        print(\" Paper beats rock, You win!\")\n",
    "    else:\n",
    "        print(\" Scissor beats paper, Computer wins!\")\n",
    "elif user_choice==\"scissor\":\n",
    "    if computer_choice==\"paper\":\n",
    "        print(\"Scissor beats paper, You win!\")\n",
    "    else:\n",
    "        print(\"ock beats scissor, Computer wins!\")\n",
    "        \n"
   ]
  },
  {
   "cell_type": "code",
   "execution_count": 14,
   "id": "d183b6c2-c487-4988-a987-ba554d26a38e",
   "metadata": {},
   "outputs": [
    {
     "name": "stdin",
     "output_type": "stream",
     "text": [
      "How many letters do you want 3\n",
      "How many numbers do you want 2\n",
      "How many characters do you want 3\n"
     ]
    },
    {
     "name": "stdout",
     "output_type": "stream",
     "text": [
      " oej09&&@\n"
     ]
    }
   ],
   "source": [
    "# Question 3\n",
    "\n",
    "#  Develop a program that generates a random password based on user preferences (length, complexity).\n",
    "\n",
    "import random # Imports the random module\n",
    "letters = ['a','b','c','d','e','f','g','h','i','j','k','l','m','n','o','p','q','r','s','t','u','v','w','x','y','z']\n",
    "\n",
    "numbers = ['1','2','3','4','5','6','7','8','9','0'] # Two list with letters and numbers are initialized\n",
    "\n",
    "special_char = ['!','@','#','%','&','*']\n",
    "\n",
    "no_letters = int(input(\"How many letters do you want\")) # ask for the number of lettrs\n",
    "\n",
    "no_numbers = int(input(\"How many numbers do you want\")) # ask for the number of integers\n",
    "\n",
    "no_char = int(input(\"How many characters do you want\")) # ask for the number of special characters \n",
    "\n",
    "                 \n",
    "password = [] # create a empty password list\n",
    "\n",
    "# loop through the letters list to get the number of letters\n",
    "for i in range(0,no_letters):\n",
    "    password.append(random.choice(letters)) # choice is used to generate a random character from the list\n",
    "    \n",
    "# loop through the numbers list\n",
    "    \n",
    "for i in range(0,no_numbers):\n",
    "    password.append(random.choice(numbers))\n",
    "    \n",
    "# koop through the special characters list\n",
    "for i in range(0,no_char):\n",
    "    password.append(random.choice(special_char))\n",
    "    \n",
    "user_password = \" \"\n",
    "for i in password: # a variable user password is defined to store the characters\n",
    "    user_password+=i\n",
    "print(user_password)"
   ]
  },
  {
   "cell_type": "code",
   "execution_count": 16,
   "id": "3467b864-bc5e-4247-9992-1018e50e2875",
   "metadata": {},
   "outputs": [
    {
     "name": "stdin",
     "output_type": "stream",
     "text": [
      "You're at a cross road. Where do you want to go? Type \"left\" or \"right\" \n",
      " left\n",
      "You've come to a lake. There is an island in the middle of the lake. Type \"wait\" to wait for a boat. Type \"swim\" to swim across. \n",
      " wait\n",
      "You arrive at the island unharmed. There is a house with 3 doors. One red, one yellow and one blue. Which colour do you choose? \n",
      " yellow\n"
     ]
    },
    {
     "name": "stdout",
     "output_type": "stream",
     "text": [
      "You found the treasure! You Win!\n"
     ]
    }
   ],
   "source": [
    "#Question 4 \n",
    "\n",
    "# Create a program that implements a simple text-based adventure game with branching scenarios. \n",
    "\n",
    "print(\"Welcome to Treasure Island.\")    # a treasure island game with mmultiple conditions\n",
    "print(\"Your mission is to find the treasure.\")\n",
    "\n",
    "choice1 = input('You\\'re at a cross road. Where do you want to go? Type \"left\" or \"right\" \\n').lower()\n",
    "if choice1 == \"left\":\n",
    "    choice2 = input('You\\'ve come to a lake. There is an island in the middle of the lake. Type \"wait\" to wait for a boat. Type \"swim\" to swim across. \\n').lower()\n",
    "    if choice2 == \"wait\":\n",
    "        choice3 = input(\"You arrive at the island unharmed. There is a house with 3 doors. One red, one yellow and one blue. Which colour do you choose? \\n\").lower()\n",
    "        if choice3 == \"red\":\n",
    "            print(\"It's a room full of fire. Game Over.\")\n",
    "        elif choice3 == \"yellow\":\n",
    "            print(\"You found the treasure! You Win!\")    \n",
    "        elif choice3 == \"blue\":\n",
    "            print(\"You enter a room of beasts. Game Over.\")\n",
    "        else:\n",
    "            print(\"You chose a door that doesn't exist. Game Over.\")\n",
    "    else:\n",
    "        print(\"You get attacked by an angry trout. Game Over.\")\n",
    "else:\n",
    "    print(\"You fell into a hole. Game Over.\")\n",
    "\n",
    "\n"
   ]
  },
  {
   "cell_type": "code",
   "execution_count": null,
   "id": "edb98b20-df05-4019-b9e2-a7bf91ab1bf8",
   "metadata": {},
   "outputs": [],
   "source": [
    "# Question 5\n",
    "\n",
    "# Build a program that solves a linear equation  for x, considering different cases\n",
    "\n"
   ]
  },
  {
   "cell_type": "code",
   "execution_count": 28,
   "id": "33a299b3-b4b4-493f-a84f-934e780c5d79",
   "metadata": {},
   "outputs": [
    {
     "name": "stdout",
     "output_type": "stream",
     "text": [
      "Wellcome to quiz game !!\n",
      "NOTE: if your spelling is incorrect then it is considered as wrong answer\n"
     ]
    },
    {
     "name": "stdin",
     "output_type": "stream",
     "text": [
      "Do you want to play ?  11\n"
     ]
    },
    {
     "name": "stdout",
     "output_type": "stream",
     "text": [
      "thankyou you are out of a game.\n",
      "\n",
      "number of question is 0\n",
      "your score is 0\n"
     ]
    }
   ],
   "source": [
    "# Question 6\n",
    "\n",
    "# Write a program that simulates a basic quiz game with multiple-choice questions and scoring\n",
    "\n",
    "print(\"Wellcome to quiz game !!\") # print the messge to the user\n",
    "print('NOTE: if your spelling is incorrect then it is considered as wrong answer')\n",
    "score = 0 # initialize a score variable with 0\n",
    "question_no = 0 # initialize a variable question no with value 0\n",
    "playing = input('Do you want to play ? ').lower() # Ask if the user want to play the gaem if yes continue no exit\n",
    "if playing == 'yes':\n",
    "    question_no += 1\n",
    "    ques = input(f'\\n{question_no}. what does CPU stand for? ').lower()\n",
    "    if ques == 'central processing unit':\n",
    "        score +=1\n",
    "        print('correct! you got 1 point')\n",
    "        \n",
    "    else:\n",
    "        print('Incorrect!')\n",
    "        print(f'current answer is --> central processing unit')\n",
    "\n",
    "    question_no += 1\n",
    "    ques = input(f'\\n{question_no}.  Who was the first President of India?').lower()\n",
    "    \n",
    "    if ques == 'mahatma Gandhi':\n",
    "        score +=1\n",
    "        print('correct! you got 1 point')\n",
    "        \n",
    "    else:\n",
    "        print('Incorrect!')\n",
    "        print(f'current answer is --> Mahatma Gandhi')\n",
    "\n",
    "\n",
    "    question_no += 1\n",
    "    ques = input(f'\\n{question_no}.Who is known as Father of Indian Constitution?').lower()\n",
    "    \n",
    "    if ques == 'dr. B. R. Ambedkar':\n",
    "        score +=1\n",
    "        print('correct! you got 1 point')\n",
    "        \n",
    "    else:\n",
    "        print('Incorrect!')\n",
    "        print(f'current answer is --> Dr. B. R. Ambedkar')\n",
    "\n",
    "\n",
    "    question_no += 1\n",
    "    ques = input(f'\\n{question_no}. Which is the most sensitive organ in our body?').lower()\n",
    "    \n",
    "    if ques == 'skin':\n",
    "        score +=1\n",
    "        print('correct! you got 1 point')\n",
    "        \n",
    "    else:\n",
    "        print('Incorrect!')\n",
    "        print(f'current answer is --> Skin')\n",
    "\n",
    "\n",
    "    question_no += 1\n",
    "    ques = input(f'\\n{question_no}. what does ROM stand for? ').lower()\n",
    "    \n",
    "    if ques == 'read only memory':\n",
    "        score +=1\n",
    "        print('correct! you got 1 point')\n",
    "        \n",
    "    else:\n",
    "        print('Incorrect!')\n",
    "        print(f'current answer is --> read only memory')\n",
    "\n",
    "\n",
    "\n",
    "else:\n",
    "    print('thankyou you are out of a game.')\n",
    "    quit()\n",
    "\n",
    "print(f'\\nnumber of question is {question_no}')\n",
    "print(f'your score is {score}')\n",
    "\n"
   ]
  },
  {
   "cell_type": "code",
   "execution_count": 12,
   "id": "0e8f3e53-4b8f-4e9f-af78-178f05ba7abc",
   "metadata": {},
   "outputs": [
    {
     "name": "stdin",
     "output_type": "stream",
     "text": [
      "Enter the year 2020\n"
     ]
    },
    {
     "name": "stdout",
     "output_type": "stream",
     "text": [
      "The number is not a prime number\n"
     ]
    }
   ],
   "source": [
    "# Question 9\n",
    "\n",
    "# Develop a program that determines whether a given year is a prime number or not.\n",
    "\n",
    "# Number to be checked for prime\n",
    "\n",
    "num = int(input(\"Enter the year\")) # store the user input in n\n",
    "flag=False # initialize a flag variable with value False\n",
    "# Check if the number is greater than 1\n",
    "if num>1:\n",
    "    for i in range(2,num): # loop through if we find a factor the turn the flag true\n",
    "        if num%i==0:\n",
    "            flag=True\n",
    "            break\n",
    "    if flag:\n",
    "        print(\"The number is not a prime number\")\n",
    "    else:\n",
    "        print(\"It is a prime number\")"
   ]
  },
  {
   "cell_type": "code",
   "execution_count": null,
   "id": "bc33c2e2-c238-4bec-b068-33eda7c9898d",
   "metadata": {},
   "outputs": [],
   "source": [
    "## Question 10\n",
    "\n",
    "# Create a program that sorts three numbers in ascending order using conditional statements\n",
    "\n",
    "a = int(input(\"Enter a: \")) # The user input is stored in variables a b and\n",
    "b = int(input(\"Enter b: \"))\n",
    "c = int(input(\"Enter c: \"))\n",
    "if a < b: \n",
    "    if b < c: \n",
    "        print (a, \"<\", b, \"<\", c) \n",
    "    else:\n",
    "        if a < c:\n",
    "            print (a, \"<\", c, \"<\", b)\n",
    "        else:\n",
    "            print (c, \"<\", a, \"<\", b)\n",
    "else:\n",
    "    if c < b:\n",
    "        print (c, \"<\", b, \"<\", a)\n",
    "    else:\n",
    "        if c < a:\n",
    "            print (b, \"<\", c, \"<\", a)\n",
    "        else:\n",
    "            print (b, \"<\", a, \"<\", c)\n"
   ]
  },
  {
   "cell_type": "code",
   "execution_count": 6,
   "id": "6d7fa078-1b84-4066-900f-098f2d62eeff",
   "metadata": {},
   "outputs": [
    {
     "name": "stdin",
     "output_type": "stream",
     "text": [
      "How many letters do you want 2\n",
      "How many numbers do you want 3\n",
      "How many characters do you want 2\n"
     ]
    },
    {
     "name": "stdout",
     "output_type": "stream",
     "text": [
      " kp855#@\n"
     ]
    }
   ],
   "source": [
    "# CHALLENGE LEVEL\n",
    "\n",
    "# Question 1\n",
    "\n",
    "# Create a program that validates a password based on complexity rules (length, characters, etc.)  \n",
    "\n",
    "\n",
    "import random # Imports the random module\n",
    "letters = ['a','b','c','d','e','f','g','h','i','j','k','l','m','n','o','p','q','r','s','t','u','v','w','x','y','z']\n",
    "\n",
    "numbers = ['1','2','3','4','5','6','7','8','9','0'] # Two list with letters and numbers are initialized\n",
    "\n",
    "special_char = ['!','@','#','%','&','*']\n",
    "\n",
    "no_letters = int(input(\"How many letters do you want\")) # ask for the number of lettrs\n",
    "\n",
    "no_numbers = int(input(\"How many numbers do you want\")) # ask for the number of integers\n",
    "\n",
    "no_char = int(input(\"How many characters do you want\")) # ask for the number of special characters \n",
    "\n",
    "                 \n",
    "password = [] # create a empty password list\n",
    "\n",
    "# loop through the letters list to get the number of letters\n",
    "for i in range(0,no_letters):\n",
    "    password.append(random.choice(letters)) # choice is used to generate a random character from the list\n",
    "    \n",
    "# loop through the numbers list\n",
    "    \n",
    "for i in range(0,no_numbers):\n",
    "    password.append(random.choice(numbers))\n",
    "    \n",
    "# koop through the special characters list\n",
    "for i in range(0,no_char):\n",
    "    password.append(random.choice(special_char))\n",
    "    \n",
    "user_password = \" \"\n",
    "for i in password: # a variable user password is defined to store the characters\n",
    "    user_password+=i\n",
    "print(user_password)\n"
   ]
  },
  {
   "cell_type": "code",
   "execution_count": null,
   "id": "f52bc470-b1c5-4860-a11a-d4fc458d1504",
   "metadata": {},
   "outputs": [
    {
     "name": "stdin",
     "output_type": "stream",
     "text": [
      "enter the size of list 5\n",
      "enter the size of sublist 2\n"
     ]
    },
    {
     "name": "stdout",
     "output_type": "stream",
     "text": [
      "Enter the elements\n"
     ]
    },
    {
     "name": "stdin",
     "output_type": "stream",
     "text": [
      " 12\n",
      " 12\n"
     ]
    },
    {
     "name": "stdout",
     "output_type": "stream",
     "text": [
      "Enter the elements\n"
     ]
    },
    {
     "name": "stdin",
     "output_type": "stream",
     "text": [
      " 21\n",
      " 23\n"
     ]
    }
   ],
   "source": [
    "# Question 2\n",
    "\n",
    "# Develop a program that performs matrix addition and subtraction based on user input.\n",
    "\n",
    "x = int(input(\"enter the size of list\")) # get the size of the list\n",
    "y = int(input(\"enter the size of sublist\")) # get the size of the sublist\n",
    "list1 = [] # initialize two empty lists and 2 empty sublists\n",
    "sublist1 = []\n",
    "list2 = []\n",
    "sublist2 = []\n",
    "for i in range(x):\n",
    "    for j in range(y):\n",
    "        print(\"Enter the elements\")\n",
    "        sublist1.append(input()) # get the elements using user input\n",
    "        sublist2.append(input())\n",
    "    list1.append(sublist1)\n",
    "    list2.append(sublist2)\n",
    "        \n",
    "    sublist1 = []\n",
    "    sublist2 = []\n",
    "        \n",
    "matrix1 = list1 # initialize two matrix variable called matrix 1 and 2 and store the values of the lists in them\n",
    "matrix2 = list2\n",
    "\n",
    "for row in matrix1:\n",
    "    for element in row:\n",
    "        print(element,end = \" \")\n",
    "    print()\n",
    "    \n",
    "for row in matrix2:\n",
    "    for element in row:\n",
    "        print(element,end = \" \")\n",
    "    print()\n"
   ]
  },
  {
   "cell_type": "code",
   "execution_count": 14,
   "id": "04ac8d34-5d9b-4585-88fb-03b407562b04",
   "metadata": {},
   "outputs": [
    {
     "name": "stdin",
     "output_type": "stream",
     "text": [
      "Enter the first number:  34\n",
      "Enter the second number:  12\n"
     ]
    },
    {
     "name": "stdout",
     "output_type": "stream",
     "text": [
      "GCD of two number is: \n",
      "2\n"
     ]
    }
   ],
   "source": [
    "# Question 3\n",
    "\n",
    "# Write a program that calculates the greatest common divisor (GCD) of two numbers using the Euclidean algorithm.\n",
    "\n",
    "def gcd_fun (x, y):  # define a funtion to get the two numbers x and y\n",
    "    if (y == 0): # it divide every number  \n",
    "        return x  # return x  \n",
    "    else:  \n",
    "        return gcd_fun (y, x % y)  \n",
    "x =int (input (\"Enter the first number: \")) # user input of the first number   \n",
    "y =int (input (\"Enter the second number: \")) # user input of the second number\n",
    "num = gcd_fun(x, y)   # call the gcd_fun() to find the result  \n",
    "print(\"GCD of two number is: \")  \n",
    "print(num)"
   ]
  },
  {
   "cell_type": "code",
   "execution_count": 15,
   "id": "91e61756-327d-4e43-a1ff-01ee370e563a",
   "metadata": {},
   "outputs": [
    {
     "ename": "IndexError",
     "evalue": "list index out of range",
     "output_type": "error",
     "traceback": [
      "\u001b[0;31m---------------------------------------------------------------------------\u001b[0m",
      "\u001b[0;31mIndexError\u001b[0m                                Traceback (most recent call last)",
      "Cell \u001b[0;32mIn[15], line 27\u001b[0m\n\u001b[1;32m     24\u001b[0m     \u001b[38;5;28;01mfor\u001b[39;00m j \u001b[38;5;129;01min\u001b[39;00m \u001b[38;5;28mrange\u001b[39m(\u001b[38;5;28mlen\u001b[39m(l2[\u001b[38;5;241m0\u001b[39m])):\n\u001b[1;32m     25\u001b[0m         \u001b[38;5;66;03m# iterate through rows of Matrix B\u001b[39;00m\n\u001b[1;32m     26\u001b[0m         \u001b[38;5;28;01mfor\u001b[39;00m k \u001b[38;5;129;01min\u001b[39;00m \u001b[38;5;28mrange\u001b[39m(\u001b[38;5;28mlen\u001b[39m(l2)):\n\u001b[0;32m---> 27\u001b[0m             result[i][j] \u001b[38;5;241m+\u001b[39m\u001b[38;5;241m=\u001b[39m \u001b[43ml1\u001b[49m\u001b[43m[\u001b[49m\u001b[43mi\u001b[49m\u001b[43m]\u001b[49m\u001b[43m[\u001b[49m\u001b[43mk\u001b[49m\u001b[43m]\u001b[49m \u001b[38;5;241m*\u001b[39m l2[k][j]\n\u001b[1;32m     29\u001b[0m \u001b[38;5;28mprint\u001b[39m(\u001b[38;5;124m'\u001b[39m\u001b[38;5;124mMultiplied Matrix:\u001b[39m\u001b[38;5;124m'\u001b[39m)\n\u001b[1;32m     30\u001b[0m \u001b[38;5;28;01mfor\u001b[39;00m r \u001b[38;5;129;01min\u001b[39;00m result:\n",
      "\u001b[0;31mIndexError\u001b[0m: list index out of range"
     ]
    }
   ],
   "source": [
    "# Question 4\n",
    "\n",
    "# Build a program that performs matrix multiplication using nested loops and conditional statements.\n",
    "\n",
    "# consider two nested lists\n",
    "# two 3*2 matrices\n",
    "\n",
    "l1 = [[1,2],\n",
    "      [2,3],\n",
    "      [2,2]]\n",
    "\n",
    "l2 = [[3,2],\n",
    "      [3,3],\n",
    "      [2,4]]\n",
    "\n",
    "\n",
    "result = [[0,0],\n",
    "          [0,0],\n",
    "          [0,0]]\n",
    "\n",
    "# iterate through rows of Matrix A\n",
    "for i in range(len(l1)):\n",
    "    # iterate through columns of Matrix B\n",
    "    for j in range(len(l2[0])):\n",
    "        # iterate through rows of Matrix B\n",
    "        for k in range(len(l2)):\n",
    "            result[i][j] += l1[i][k] * l2[k][j]\n",
    "\n",
    "print('Multiplied Matrix:')\n",
    "for r in result:\n",
    "    print(r)\n",
    "\n",
    "    \n",
    "    \n",
    "               \n",
    "\n",
    "\n",
    "\n",
    "\n"
   ]
  },
  {
   "cell_type": "code",
   "execution_count": null,
   "id": "4e0d5718-9090-4a4f-b52f-df9dd877791a",
   "metadata": {},
   "outputs": [],
   "source": [
    "# Question 5\n",
    "\n",
    "#  Create a program that simulates a basic text-based tic-tac-toe game against the computer.\n",
    " "
   ]
  },
  {
   "cell_type": "code",
   "execution_count": null,
   "id": "da6001ff-2e0c-47f8-861b-b4e1a5f391ce",
   "metadata": {},
   "outputs": [],
   "source": []
  },
  {
   "cell_type": "code",
   "execution_count": null,
   "id": "5fccabbe-320f-49a1-a020-cfda51f954cf",
   "metadata": {},
   "outputs": [],
   "source": [
    "# Question 6\n",
    "\n",
    "# Write a program that generates Fibonacci numbers up to a specified term using iterative methods.\n",
    "\n",
    "def fibonacci(n): # define  a function fibonacci which accepts an argument\n",
    "    a,b = 0,1  # initialize the values of a and b to 0,1\n",
    "    for i in range(n): #0,1,1,2,3,5\n",
    "        a,b = b,a+b    # abecomes b and b becomes a +b\n",
    "    return a\n",
    "\n",
    "n = int(input(\"Enter the number\"))\n",
    "\n",
    "print(fibonacci(n))"
   ]
  },
  {
   "cell_type": "code",
   "execution_count": 4,
   "id": "7300120e-dffe-4c2c-87ed-d83b1bb40e2b",
   "metadata": {},
   "outputs": [
    {
     "data": {
      "text/plain": [
       "8"
      ]
     },
     "execution_count": 4,
     "metadata": {},
     "output_type": "execute_result"
    }
   ],
   "source": [
    "# Question 7\n",
    "\n",
    "# Develop a program that calculates the nth term of the Fibonacci sequence using memoization.\n",
    "\n",
    "# memoization is basically caching the process \n",
    "# recursion is the best example of memoization\n",
    "def fib(n): # def a function fib which takes an argument \n",
    "    if n<=1: \n",
    "        return 1\n",
    "    else:\n",
    "        return fib(n-1) + fib(n-2)\n",
    "    \n",
    "    \n",
    "fib(5)    "
   ]
  },
  {
   "cell_type": "code",
   "execution_count": null,
   "id": "0f7a9def-9d26-4ca0-870d-1bfdc1c6acca",
   "metadata": {},
   "outputs": [],
   "source": [
    "# Question 8\n",
    "\n",
    "# Create a program that generates a calendar for a given month and year using conditional statements.\n",
    "\n"
   ]
  },
  {
   "cell_type": "code",
   "execution_count": 16,
   "id": "e149d9e4-b155-47c9-9cc2-8ffdaa817a74",
   "metadata": {},
   "outputs": [
    {
     "name": "stdout",
     "output_type": "stream",
     "text": [
      "Your cards: [6, 10], your score: 16\n",
      "computers'first card is 5\n"
     ]
    },
    {
     "name": "stdin",
     "output_type": "stream",
     "text": [
      "Do you want another card , Y or N y\n"
     ]
    }
   ],
   "source": [
    "# Question 10\n",
    "\n",
    "# Build a program that simulates a basic text-based blackjack game against the computer\n",
    "\n",
    "import random  # import random module\n",
    "\n",
    "def deal_card():  # defining a function deal card to get random card from the deck of cards\n",
    "    cards = [11,2,3,4,5,6,7,8,9,10,10,10,10]\n",
    "    random_card = random.choice(cards)\n",
    "    return random_card    \n",
    "\n",
    "def calculate_score(cards): # defining a function to calculate the score\n",
    "    if sum(cards)==21 and len(cards)==2: # To check if there is a blackjack we need to check whether the cards have 10,21 and if the length is 2  \n",
    "                                          # if it is return 0 indicating it is a black jack     \n",
    "        return 0\n",
    "    if 11 in cards and sum(cards)>21: # if there is a 11 in the card and the sum of the cards is greater than 21 remove the 11 and append 1\n",
    "        cards.remove(11)\n",
    "        cards.append(1)\n",
    "        \n",
    "    return sum(cards)\n",
    "    \n",
    "    \n",
    "user_cards = [] # Create user_cards and computer_Cards variables and initialize it with empty list\n",
    "computer_cards = [] \n",
    "\n",
    "for i in range(2): # using the for loop to deal 2 cards and append to user_Cards and computer_cards\n",
    "    user_cards.append(deal_card())\n",
    "    computer_cards.append(deal_card())\n",
    "    \n",
    "\n",
    "user_score = calculate_score(user_cards)\n",
    "computer_score = calculate_score(computer_cards)\n",
    "\n",
    "\n",
    "print(f\"Your cards: {user_cards}, your score: {user_score}\")\n",
    "print(f\"computers'first card is {computer_cards[0]}\")\n",
    "\n",
    "if user_score==0 or computer_score==0 or user_score>21:\n",
    "    game_over = True\n",
    "else: # if the game is not over the user is asked whether he wants another card \n",
    "    user_deal = input(\"Do you want another card , Y or N\").lower()\n",
    "    if user_deal==\"y\":\n",
    "        user_cards.append(deal_card()) # append another card\n",
    "    \n",
    "    else:\n",
    "        game_over = True\n",
    "    "
   ]
  },
  {
   "cell_type": "code",
   "execution_count": 6,
   "id": "9297d393-b61f-4fd9-92a3-a75f2493fed4",
   "metadata": {},
   "outputs": [],
   "source": [
    "# Write a program that generates the prime factors of a given number using trial division.\n",
    "\n",
    "\n",
    "\n",
    "\n"
   ]
  },
  {
   "cell_type": "code",
   "execution_count": null,
   "id": "7df4535c-bf01-4460-9909-27727357dbbf",
   "metadata": {},
   "outputs": [],
   "source": []
  },
  {
   "cell_type": "code",
   "execution_count": null,
   "id": "9ec181ba-bea5-4959-91c2-2cb396e2f584",
   "metadata": {},
   "outputs": [],
   "source": []
  }
 ],
 "metadata": {
  "kernelspec": {
   "display_name": "Python 3 (ipykernel)",
   "language": "python",
   "name": "python3"
  },
  "language_info": {
   "codemirror_mode": {
    "name": "ipython",
    "version": 3
   },
   "file_extension": ".py",
   "mimetype": "text/x-python",
   "name": "python",
   "nbconvert_exporter": "python",
   "pygments_lexer": "ipython3",
   "version": "3.10.8"
  }
 },
 "nbformat": 4,
 "nbformat_minor": 5
}
